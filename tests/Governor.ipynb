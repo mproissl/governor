{
 "cells": [
  {
   "cell_type": "code",
   "execution_count": null,
   "metadata": {},
   "outputs": [],
   "source": [
    "%ls -all"
   ]
  },
  {
   "cell_type": "code",
   "execution_count": null,
   "metadata": {},
   "outputs": [],
   "source": [
    "from importlib import import_module as _import\n",
    "from timeit import default_timer as _timer\n",
    "\n",
    "class Operator():\n",
    "    \"\"\"Node of directed graph representing an operator.\"\"\"\n",
    "    \n",
    "    def __init__(self,\n",
    "                 # Required inputs\n",
    "                 id_: str,\n",
    "                 name: str,\n",
    "                 module_path: str,\n",
    "                 # Optional inputs\n",
    "                 label: str = None,\n",
    "                 module_is_file: bool = False,\n",
    "                 class_name: str = None,\n",
    "                 class_params: dict = None,\n",
    "                 operator_is_class: bool = False,\n",
    "                 input_deps: dict = None,\n",
    "                 input_params: dict = None,\n",
    "                 output: dict = None,\n",
    "                 operator_: object = None\n",
    "                ):\n",
    "        \"\"\"Constructor.\n",
    "        \n",
    "        Args:\n",
    "            id_: Unique graph-wide operator identifier,\n",
    "                 which is usually set by the Controller\n",
    "                 that assures uniqueness.\n",
    "        \n",
    "        Returns:\n",
    "            Dictionary of operator execution profile\n",
    "        \"\"\"\n",
    "        # Private vars\n",
    "        self._me = \"Operator():\"\n",
    "        self._id = id_\n",
    "        self._name = name\n",
    "        self._module_path = module_path\n",
    "        self._run_profile = {}\n",
    "        \n",
    "        # Load new operator\n",
    "        if operator_ is None:\n",
    "\n",
    "            # Contained in package\n",
    "            if not module_is_file:\n",
    "                \n",
    "                if class_name is None:\n",
    "                    \n",
    "                    # Access directly to operator with module\n",
    "                    # 'path' and 'name' of operator, which can\n",
    "                    # either be a method or a class. The latter\n",
    "                    # case is determined at execution with the\n",
    "                    # 'operator_is_class' flag.\n",
    "                    try:\n",
    "                        operator = getattr(_import(module_path), name)\n",
    "\n",
    "                    except (ImportError, AttributeError) as err:\n",
    "                        raise ImportError(\"{} Failed loading operator '{}.{}'.\"\\\n",
    "                                          .format(self._me, module_path, name))\n",
    "                \n",
    "                elif class_params is None:\n",
    "                    \n",
    "                    # Access to operator via class initialization\n",
    "                    # without parameters passed to the constructor.\n",
    "                    try:\n",
    "                        operator = getattr(getattr(_import(module_path), class_name)(), name)\n",
    "                    \n",
    "                    except (ImportError, AttributeError) as err:\n",
    "                        raise ImportError(\"{} Failed loading operator '{}.{}().{}'.\"\\\n",
    "                                          .format(self._me, module_path, class_name, name))\n",
    "                \n",
    "                else:\n",
    "                    \n",
    "                    # Access to operator via class initialization\n",
    "                    # with parameters passed to the constructor.\n",
    "                    try:\n",
    "                        operator = getattr(getattr(_import(module_path), class_name)(**class_params), name)\n",
    "                    \n",
    "                    except (ImportError, AttributeError) as err:\n",
    "                        raise ImportError(\"{} Failed loading operator '{}.{}(**class_params).{}'.\"\\\n",
    "                                          .format(self._me, module_path, class_name, name))\n",
    "        \n",
    "            # Contained in file\n",
    "            else:\n",
    "                \n",
    "                # TODO: \n",
    "                print(\"TODO: load module with given name of Python file.\")\n",
    "        \n",
    "        # Run operator with no return\n",
    "        try:\n",
    "            if output is None:\n",
    "                _ = self._run(operator,\n",
    "                              input_deps,\n",
    "                              input_params,\n",
    "                              operator_is_class)\n",
    "            elif len(output) == 1:\n",
    "                output[next(iter(output))] = self._run(operator,\n",
    "                                                       input_deps,\n",
    "                                                       input_params,\n",
    "                                                       operator_is_class)\n",
    "            else:\n",
    "                raise ValueError(\"Shared 'output' object is expected \"+\n",
    "                                 \"to hold only 1 output\")\n",
    "            \n",
    "            # Record success\n",
    "            self._run_profile[\"success\"] = True\n",
    "        \n",
    "        except ValueError as err:\n",
    "            print(err)\n",
    "            self._run_profile[\"success\"] = False\n",
    "            pass\n",
    "        \n",
    "        except Exception as err:\n",
    "            print(err)\n",
    "            self._run_profile[\"success\"] = False\n",
    "            pass\n",
    "            \n",
    "    @property\n",
    "    def id(self) -> str:\n",
    "        return self._id\n",
    "    \n",
    "    @property\n",
    "    def name(self) -> str:\n",
    "        return self._name\n",
    "    \n",
    "    @property\n",
    "    def module_path(self) -> str:\n",
    "        return self._module_path\n",
    "    \n",
    "    @property\n",
    "    def run_profile(self) -> dict:\n",
    "        return self._run_profile\n",
    "    \n",
    "    def _run(self,\n",
    "             operator: object,\n",
    "             input_deps: dict,\n",
    "             input_params: dict,\n",
    "             operator_is_class: bool):\n",
    "        \n",
    "        if input_deps is not None:\n",
    "            if input_params is not None:\n",
    "                \n",
    "                # Sanity check for duplicates (TODO: check this!!)\n",
    "                if input_deps.keys() in input_params.keys():\n",
    "                    raise ValueError(\"{} Duplicate operator arguments between 'input_deps' \"+\n",
    "                                     \"and 'input_params' detected. Check your settings.\"\\\n",
    "                                     .format(self._me))\n",
    "                \n",
    "                # Operator uses both mutable input objects,\n",
    "                # which it can modify, and static parameters\n",
    "                return self._profiled_run(operator, **input_deps, **input_params)[0]\n",
    "            \n",
    "            else:\n",
    "                \n",
    "                # Operator uses only mutable input objects,\n",
    "                # which it can modify\n",
    "                return self._profiled_run(operator, **input_deps)[0]\n",
    "            \n",
    "        elif input_params is not None:\n",
    "            \n",
    "            # Operator uses only static parameters\n",
    "            return self._profiled_run(operator, **input_params)[0]\n",
    "        \n",
    "        else:\n",
    "            \n",
    "            # Operator needs no arguments\n",
    "            return self._profiled_run(operator)[0]\n",
    "    \n",
    "    def _profiled_run(self, operator, *args):\n",
    "        \n",
    "        # Capture time\n",
    "        time_start = _timer()\n",
    "        \n",
    "        # Run and measure\n",
    "        return (\n",
    "            operator(*args),\n",
    "            self._runtime_ms(time_start)\n",
    "        )\n",
    "    \n",
    "    def _runtime_ms(self, time_start):\n",
    "        self._run_profile[\"runtime_ms\"] = (_timer() - time_start) * 1000\n",
    "        return _\n",
    "        "
   ]
  },
  {
   "cell_type": "code",
   "execution_count": null,
   "metadata": {},
   "outputs": [],
   "source": [
    "Operator(id_=\"t\",\n",
    "         name=\"method_no_args_with_return\",\n",
    "         module_path=\"testlib.test_app\").run_profile"
   ]
  },
  {
   "cell_type": "code",
   "execution_count": 3,
   "metadata": {},
   "outputs": [],
   "source": [
    "data = dict()"
   ]
  },
  {
   "cell_type": "code",
   "execution_count": 4,
   "metadata": {},
   "outputs": [],
   "source": [
    "data[\"blockA\"] = 3"
   ]
  },
  {
   "cell_type": "code",
   "execution_count": 6,
   "metadata": {},
   "outputs": [],
   "source": [
    "data[\"blockB\"] = { \"blockB\": 10 }"
   ]
  },
  {
   "cell_type": "code",
   "execution_count": 7,
   "metadata": {},
   "outputs": [
    {
     "data": {
      "text/plain": [
       "{'blockA': 3, 'blockB': {'blockB': 10}}"
      ]
     },
     "execution_count": 7,
     "metadata": {},
     "output_type": "execute_result"
    }
   ],
   "source": [
    "data"
   ]
  },
  {
   "cell_type": "code",
   "execution_count": 8,
   "metadata": {},
   "outputs": [],
   "source": [
    "def change_me(sample: dict):\n",
    "    sample[\"blockB\"] = 11"
   ]
  },
  {
   "cell_type": "code",
   "execution_count": 9,
   "metadata": {},
   "outputs": [],
   "source": [
    "change_me(data[\"blockB\"])"
   ]
  },
  {
   "cell_type": "code",
   "execution_count": 10,
   "metadata": {},
   "outputs": [
    {
     "data": {
      "text/plain": [
       "{'blockA': 3, 'blockB': {'blockB': 11}}"
      ]
     },
     "execution_count": 10,
     "metadata": {},
     "output_type": "execute_result"
    }
   ],
   "source": [
    "data"
   ]
  },
  {
   "cell_type": "code",
   "execution_count": 11,
   "metadata": {},
   "outputs": [
    {
     "data": {
      "text/plain": [
       "{'blockA': 3, 'blockB': {'blockB': 11}}"
      ]
     },
     "execution_count": 11,
     "metadata": {},
     "output_type": "execute_result"
    }
   ],
   "source": [
    "data"
   ]
  },
  {
   "cell_type": "code",
   "execution_count": 12,
   "metadata": {},
   "outputs": [],
   "source": [
    "copy_of_data = data"
   ]
  },
  {
   "cell_type": "code",
   "execution_count": 13,
   "metadata": {},
   "outputs": [],
   "source": [
    "copy_of_data[\"blockA\"] = 5"
   ]
  },
  {
   "cell_type": "code",
   "execution_count": 14,
   "metadata": {},
   "outputs": [
    {
     "data": {
      "text/plain": [
       "{'blockA': 5, 'blockB': {'blockB': 11}}"
      ]
     },
     "execution_count": 14,
     "metadata": {},
     "output_type": "execute_result"
    }
   ],
   "source": [
    "copy_of_data"
   ]
  },
  {
   "cell_type": "code",
   "execution_count": 15,
   "metadata": {},
   "outputs": [
    {
     "data": {
      "text/plain": [
       "{'blockA': 5, 'blockB': {'blockB': 11}}"
      ]
     },
     "execution_count": 15,
     "metadata": {},
     "output_type": "execute_result"
    }
   ],
   "source": [
    "data"
   ]
  },
  {
   "cell_type": "code",
   "execution_count": 16,
   "metadata": {},
   "outputs": [],
   "source": [
    "from timeit import default_timer as _timer"
   ]
  },
  {
   "cell_type": "code",
   "execution_count": 17,
   "metadata": {},
   "outputs": [
    {
     "data": {
      "text/plain": [
       "172241.0760553"
      ]
     },
     "execution_count": 17,
     "metadata": {},
     "output_type": "execute_result"
    }
   ],
   "source": [
    "_timer()"
   ]
  },
  {
   "cell_type": "code",
   "execution_count": 18,
   "metadata": {},
   "outputs": [
    {
     "data": {
      "text/plain": [
       "float"
      ]
     },
     "execution_count": 18,
     "metadata": {},
     "output_type": "execute_result"
    }
   ],
   "source": [
    "type(_timer())"
   ]
  },
  {
   "cell_type": "code",
   "execution_count": null,
   "metadata": {},
   "outputs": [],
   "source": []
  }
 ],
 "metadata": {
  "kernelspec": {
   "display_name": "Python 3.8.10 64-bit",
   "language": "python",
   "name": "python3"
  },
  "language_info": {
   "codemirror_mode": {
    "name": "ipython",
    "version": 3
   },
   "file_extension": ".py",
   "mimetype": "text/x-python",
   "name": "python",
   "nbconvert_exporter": "python",
   "pygments_lexer": "ipython3",
   "version": "3.8.10"
  },
  "vscode": {
   "interpreter": {
    "hash": "916dbcbb3f70747c44a77c7bcd40155683ae19c65e1c03b4aa3499c5328201f1"
   }
  }
 },
 "nbformat": 4,
 "nbformat_minor": 2
}
